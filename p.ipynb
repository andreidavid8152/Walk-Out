{
 "cells": [
  {
   "cell_type": "code",
   "execution_count": 5,
   "id": "1f1321d7",
   "metadata": {},
   "outputs": [
    {
     "name": "stdout",
     "output_type": "stream",
     "text": [
      "Total sin correspondencia: 0\n"
     ]
    },
    {
     "data": {
      "text/html": [
       "<div>\n",
       "<style scoped>\n",
       "    .dataframe tbody tr th:only-of-type {\n",
       "        vertical-align: middle;\n",
       "    }\n",
       "\n",
       "    .dataframe tbody tr th {\n",
       "        vertical-align: top;\n",
       "    }\n",
       "\n",
       "    .dataframe thead th {\n",
       "        text-align: right;\n",
       "    }\n",
       "</style>\n",
       "<table border=\"1\" class=\"dataframe\">\n",
       "  <thead>\n",
       "    <tr style=\"text-align: right;\">\n",
       "      <th></th>\n",
       "      <th>nombre</th>\n",
       "      <th>tipo</th>\n",
       "    </tr>\n",
       "  </thead>\n",
       "  <tbody>\n",
       "  </tbody>\n",
       "</table>\n",
       "</div>"
      ],
      "text/plain": [
       "Empty DataFrame\n",
       "Columns: [nombre, tipo]\n",
       "Index: []"
      ]
     },
     "execution_count": 5,
     "metadata": {},
     "output_type": "execute_result"
    }
   ],
   "source": [
    "import pandas as pd\n",
    "import geopandas as gpd\n",
    "import unicodedata\n",
    "import os\n",
    "\n",
    "\n",
    "# Función para normalizar texto (quitar tildes y mayúsculas)\n",
    "def normalize(text):\n",
    "    if pd.isnull(text):\n",
    "        return \"\"\n",
    "    text = unicodedata.normalize(\"NFKD\", str(text))\n",
    "    return \"\".join(c for c in text if not unicodedata.combining(c)).strip().upper()\n",
    "\n",
    "\n",
    "# Rutas\n",
    "DATA_DIR = \"data/\"  # Ajusta según tu estructura\n",
    "GJSON_RURAL = os.path.join(DATA_DIR, \"parroquiasRurales.geojson\")\n",
    "GJSON_URB = os.path.join(DATA_DIR, \"parroquiasUrbanas.geojson\")\n",
    "NBI_PATH = os.path.join(DATA_DIR, \"NBI.xlsx\")  # o .csv si aplica\n",
    "\n",
    "# Leer parroquias rurales y urbanas\n",
    "gdf_rurales = gpd.read_file(GJSON_RURAL).rename(columns={\"DPA_DESPAR\": \"nombre\"})\n",
    "gdf_urbanas = gpd.read_file(GJSON_URB).rename(columns={\"dpa_despar\": \"nombre\"})\n",
    "\n",
    "gdf_rurales[\"tipo\"] = \"rural\"\n",
    "gdf_urbanas[\"tipo\"] = \"urbana\"\n",
    "\n",
    "# Unir ambas en un solo GeoDataFrame\n",
    "gdf_parroquias = pd.concat(\n",
    "    [\n",
    "        gdf_rurales[[\"nombre\", \"tipo\"]],\n",
    "        gdf_urbanas[[\"nombre\", \"tipo\"]],\n",
    "    ],\n",
    "    ignore_index=True,\n",
    ")\n",
    "\n",
    "# Normalizar nombres del GeoJSON\n",
    "gdf_parroquias[\"nombre_norm\"] = gdf_parroquias[\"nombre\"].apply(normalize)\n",
    "\n",
    "# Leer Excel de NBI y normalizar nombres\n",
    "df_nbi = pd.read_excel(NBI_PATH)\n",
    "df_nbi[\"Parroquia_norm\"] = df_nbi[\"Parroquia\"].apply(normalize)\n",
    "\n",
    "# Hacer merge\n",
    "df_merge = gdf_parroquias.merge(\n",
    "    df_nbi[[\"Parroquia\", \"Parroquia_norm\"]],\n",
    "    left_on=\"nombre_norm\",\n",
    "    right_on=\"Parroquia_norm\",\n",
    "    how=\"left\",\n",
    ")\n",
    "\n",
    "# Ver parroquias sin correspondencia\n",
    "parroquias_sin_match = df_merge[df_merge[\"Parroquia\"].isna()][[\"nombre\", \"tipo\"]]\n",
    "print(f\"Total sin correspondencia: {len(parroquias_sin_match)}\")\n",
    "parroquias_sin_match"
   ]
  }
 ],
 "metadata": {
  "language_info": {
   "name": "python"
  }
 },
 "nbformat": 4,
 "nbformat_minor": 5
}
